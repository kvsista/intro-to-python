{
 "cells": [
  {
   "cell_type": "markdown",
   "id": "d3506f24",
   "metadata": {},
   "source": [
    "# Session 1"
   ]
  },
  {
   "cell_type": "markdown",
   "id": "c1cb2d84",
   "metadata": {},
   "source": [
    "# Congratulations for installing Python and Jupyter Notebooks!"
   ]
  },
  {
   "cell_type": "markdown",
   "id": "17d8bca9",
   "metadata": {},
   "source": [
    "#### You've taken the first steps to learning Python and adding a new tool to your arsenal!!!"
   ]
  },
  {
   "cell_type": "markdown",
   "id": "3092bde4",
   "metadata": {},
   "source": [
    "Let's start with something simple. Let's just print \"Welcome to Python\""
   ]
  },
  {
   "cell_type": "markdown",
   "id": "062b7ea9",
   "metadata": {},
   "source": [
    "# Printing"
   ]
  },
  {
   "cell_type": "code",
   "execution_count": null,
   "id": "285ca1df",
   "metadata": {},
   "outputs": [],
   "source": [
    "# You just have to use the in-built print function for this\n",
    "print(Welcome to Python)"
   ]
  },
  {
   "cell_type": "markdown",
   "id": "54d57a07",
   "metadata": {},
   "source": [
    "Oops! That didn't work?! Why? Let's wrap the sentence within quotes. Single or double don't matter for now."
   ]
  },
  {
   "cell_type": "code",
   "execution_count": null,
   "id": "91fd25ac",
   "metadata": {},
   "outputs": [],
   "source": [
    "print('Welcome to Python')"
   ]
  },
  {
   "cell_type": "markdown",
   "id": "4e07a5b9",
   "metadata": {},
   "source": [
    "That worked. That's because you were trying to print a sentence which is of the 'string' datatype and Strings always should be wrapped within quotes."
   ]
  },
  {
   "cell_type": "markdown",
   "id": "e57208a4",
   "metadata": {},
   "source": [
    "# Let's calculate something"
   ]
  },
  {
   "cell_type": "code",
   "execution_count": null,
   "id": "7ecac475",
   "metadata": {},
   "outputs": [],
   "source": [
    "print(1+2)"
   ]
  },
  {
   "cell_type": "markdown",
   "id": "b9c476c7",
   "metadata": {},
   "source": [
    "That's perfect! We got the answer. How about some other calculations?"
   ]
  },
  {
   "cell_type": "code",
   "execution_count": null,
   "id": "02e9bb7a",
   "metadata": {},
   "outputs": [],
   "source": [
    "print(5-2) # Subtraction is with the - (minus) operator"
   ]
  },
  {
   "cell_type": "code",
   "execution_count": null,
   "id": "4612c290",
   "metadata": {},
   "outputs": [],
   "source": [
    "print(5/2) # Single / is the division operator and you should get a float as the solution.\n",
    "print(type(4/2))"
   ]
  },
  {
   "cell_type": "code",
   "execution_count": null,
   "id": "a1f580ba",
   "metadata": {},
   "outputs": [],
   "source": [
    "print(7//2.2) # Double // is an operator for 'floor division'. The output will be an integer\n",
    "print(type(7//2.2))"
   ]
  },
  {
   "cell_type": "code",
   "execution_count": null,
   "id": "193f0bbf",
   "metadata": {},
   "outputs": [],
   "source": [
    "print(4*2) # The * (star) is the operator for multiplication."
   ]
  },
  {
   "cell_type": "code",
   "execution_count": null,
   "id": "0816e327",
   "metadata": {},
   "outputs": [],
   "source": [
    "print(4**2) # Double ** is for power. So you can calculate squares, cubes, and so on."
   ]
  },
  {
   "cell_type": "markdown",
   "id": "58d8f71a",
   "metadata": {},
   "source": [
    "By now you must've observed the use of '#' in the above cells. '#' is used to comment a line.\n",
    "\n",
    "- Comments in Python is the inclusion of short descriptions along with the code to increase its readability.\n",
    "- A developer uses them to write his or her thought process while writing the code.\n",
    "- It explains the basic logic behind why a particular line of code was written."
   ]
  },
  {
   "cell_type": "code",
   "execution_count": null,
   "id": "91b9e0c9",
   "metadata": {},
   "outputs": [],
   "source": [
    "# This is a single line comment and it won't execute"
   ]
  },
  {
   "cell_type": "code",
   "execution_count": null,
   "id": "bdf442c4",
   "metadata": {},
   "outputs": [],
   "source": [
    "'''\n",
    "sjfad;asj;df\n",
    "jskdjf;ajksd;f\n",
    "\n",
    "sjakhlfahlsfd\n",
    "\n",
    "\n",
    "sadlfhlas\n",
    "'''"
   ]
  },
  {
   "cell_type": "code",
   "execution_count": null,
   "id": "993ed5a2",
   "metadata": {},
   "outputs": [],
   "source": [
    "\"\"\"\n",
    "jlskdajfajhsf\n",
    "\n",
    "hjsadhfklasjhdf\n",
    "\n",
    "ashjkldhflahjs\n",
    "\"\"\""
   ]
  },
  {
   "cell_type": "code",
   "execution_count": null,
   "id": "d2cf741b",
   "metadata": {},
   "outputs": [],
   "source": [
    "'THis is a string'"
   ]
  },
  {
   "cell_type": "code",
   "execution_count": null,
   "id": "184a502f",
   "metadata": {},
   "outputs": [],
   "source": [
    "'''\n",
    "This is a string\n",
    "'''"
   ]
  },
  {
   "cell_type": "code",
   "execution_count": null,
   "id": "49eaf7e4",
   "metadata": {},
   "outputs": [],
   "source": [
    "'''\n",
    "Python doesn't have specific syntax for multiline comments.\n",
    "A string written in multiple lines could be used as a multi-line comment.\n",
    "\n",
    "I can write many many lines and not\n",
    "have to worry about running the code.\n",
    "'''"
   ]
  },
  {
   "cell_type": "markdown",
   "id": "398f4c3e",
   "metadata": {},
   "source": [
    "Why did the above line print itself? We didn't ask it to print.\n",
    "\n",
    "This is because multi-line comments are strings written in multiple lines. They aren't stored in a variable and so will be ignored."
   ]
  },
  {
   "cell_type": "code",
   "execution_count": null,
   "id": "488e829a",
   "metadata": {},
   "outputs": [],
   "source": [
    "# You could also store the above lines in a variable and it's going to be a string\n",
    "my_string = '''\n",
    "Python doesn't have specific syntax for multiline comments.\n",
    "A string writte in multiple lines could be used as a multi-line comment.\n",
    "\n",
    "I can write many many lines and not\n",
    "have to worry about running the code.\n",
    "'''"
   ]
  },
  {
   "cell_type": "markdown",
   "id": "95e220c5",
   "metadata": {},
   "source": [
    "Wait...what are Variables?"
   ]
  },
  {
   "cell_type": "code",
   "execution_count": null,
   "id": "8a97e0ef",
   "metadata": {},
   "outputs": [],
   "source": [
    "# We stored the above string in a variable named my_string. Let's call it.\n",
    "print(my_string)"
   ]
  },
  {
   "cell_type": "code",
   "execution_count": null,
   "id": "259fc945",
   "metadata": {},
   "outputs": [],
   "source": [
    "my_string = '''\n",
    "a different string\n",
    "'''"
   ]
  },
  {
   "cell_type": "code",
   "execution_count": null,
   "id": "0f8e3fbe",
   "metadata": {},
   "outputs": [],
   "source": [
    "my_string"
   ]
  },
  {
   "cell_type": "code",
   "execution_count": null,
   "id": "1512ae13",
   "metadata": {},
   "outputs": [],
   "source": [
    "string1 = 'This is string 1'\n",
    "string2 = 'This is string 2'"
   ]
  },
  {
   "cell_type": "code",
   "execution_count": null,
   "id": "f04cf8de",
   "metadata": {},
   "outputs": [],
   "source": [
    "string1"
   ]
  },
  {
   "cell_type": "code",
   "execution_count": null,
   "id": "df78a7e4",
   "metadata": {},
   "outputs": [],
   "source": [
    "string2"
   ]
  },
  {
   "cell_type": "code",
   "execution_count": null,
   "id": "578e565f",
   "metadata": {},
   "outputs": [],
   "source": [
    "# Variables for numbers\n",
    "x = 1\n",
    "y = 2"
   ]
  },
  {
   "cell_type": "code",
   "execution_count": null,
   "id": "1d1bdee6",
   "metadata": {},
   "outputs": [],
   "source": [
    "print(x)"
   ]
  },
  {
   "cell_type": "code",
   "execution_count": null,
   "id": "9a9f0e33",
   "metadata": {},
   "outputs": [],
   "source": [
    "print(x+y)"
   ]
  },
  {
   "cell_type": "code",
   "execution_count": null,
   "id": "7b361e4e",
   "metadata": {},
   "outputs": [],
   "source": [
    "x = 5"
   ]
  },
  {
   "cell_type": "code",
   "execution_count": null,
   "id": "b6cf49b4",
   "metadata": {},
   "outputs": [],
   "source": [
    "print(x)"
   ]
  },
  {
   "cell_type": "code",
   "execution_count": null,
   "id": "13dee6cc",
   "metadata": {},
   "outputs": [],
   "source": [
    "x==1 # Is x equal to 1?"
   ]
  },
  {
   "cell_type": "code",
   "execution_count": null,
   "id": "053d3463",
   "metadata": {},
   "outputs": [],
   "source": [
    "x==5"
   ]
  },
  {
   "cell_type": "code",
   "execution_count": null,
   "id": "0432811c",
   "metadata": {},
   "outputs": [],
   "source": [
    "print(x)"
   ]
  },
  {
   "cell_type": "code",
   "execution_count": null,
   "id": "e3ac8f39",
   "metadata": {},
   "outputs": [],
   "source": [
    "y==2"
   ]
  },
  {
   "cell_type": "code",
   "execution_count": null,
   "id": "47a67334",
   "metadata": {},
   "outputs": [],
   "source": [
    "x==2"
   ]
  },
  {
   "cell_type": "code",
   "execution_count": null,
   "id": "83bd5413",
   "metadata": {},
   "outputs": [],
   "source": [
    "y==1"
   ]
  },
  {
   "cell_type": "code",
   "execution_count": null,
   "id": "fc6cffbf",
   "metadata": {},
   "outputs": [],
   "source": [
    "# Single '=' is to assign a value to a variable.\n",
    "# Double '==' is to check if the value on the left is equal to the value on the right"
   ]
  },
  {
   "cell_type": "code",
   "execution_count": null,
   "id": "b9d0f8d0",
   "metadata": {},
   "outputs": [],
   "source": [
    "my_string"
   ]
  },
  {
   "cell_type": "code",
   "execution_count": null,
   "id": "74b6674d",
   "metadata": {},
   "outputs": [],
   "source": [
    "# Let's see what we can do with my_string\n",
    "print(my_string + 'I am a new line')"
   ]
  },
  {
   "cell_type": "code",
   "execution_count": null,
   "id": "52f966c7",
   "metadata": {},
   "outputs": [],
   "source": [
    "print(my_string + my_string)"
   ]
  },
  {
   "cell_type": "code",
   "execution_count": null,
   "id": "8d2a4443",
   "metadata": {},
   "outputs": [],
   "source": [
    "print(my_string*2)"
   ]
  },
  {
   "cell_type": "code",
   "execution_count": null,
   "id": "ec2a3a4f",
   "metadata": {},
   "outputs": [],
   "source": [
    "print(my_string/2)"
   ]
  },
  {
   "cell_type": "code",
   "execution_count": null,
   "id": "a983bcb4",
   "metadata": {},
   "outputs": [],
   "source": [
    "my_string"
   ]
  },
  {
   "cell_type": "code",
   "execution_count": null,
   "id": "cf4b8db2",
   "metadata": {},
   "outputs": [],
   "source": [
    "my_string = '''\n",
    "Python doesn't have specific syntax for multiline comments.\n",
    "A string writte in multiple lines could be used as a multi-line comment.\n",
    "\n",
    "I can write many many lines and not\n",
    "have to worry about running the code.\n",
    "'''"
   ]
  },
  {
   "cell_type": "code",
   "execution_count": null,
   "id": "a0a49396",
   "metadata": {},
   "outputs": [],
   "source": [
    "my_string"
   ]
  },
  {
   "cell_type": "code",
   "execution_count": null,
   "id": "c1691fa0",
   "metadata": {},
   "outputs": [],
   "source": [
    "# REPLACE function\n",
    "my_string = my_string.replace('Python','PYYYYTHHHOOOON')\n",
    "print(my_string.replace('Python','PYYYYTHHHOOOON'))"
   ]
  },
  {
   "cell_type": "code",
   "execution_count": null,
   "id": "234a6cef",
   "metadata": {
    "scrolled": true
   },
   "outputs": [],
   "source": [
    "# SPLIT function\n",
    "print(my_string.split())"
   ]
  },
  {
   "cell_type": "markdown",
   "id": "029e8208",
   "metadata": {},
   "source": [
    "What's this? A new datatype? Let's check what datatype it is."
   ]
  },
  {
   "cell_type": "code",
   "execution_count": null,
   "id": "ae5f4acd",
   "metadata": {},
   "outputs": [],
   "source": [
    "print(type(my_string.split()))"
   ]
  },
  {
   "cell_type": "markdown",
   "id": "e4165045",
   "metadata": {},
   "source": [
    "Ahaaa! A LIST! Lists are one of the most powerful data types in Python. Let's play with them a little more."
   ]
  },
  {
   "cell_type": "code",
   "execution_count": null,
   "id": "5c659b02",
   "metadata": {
    "scrolled": true
   },
   "outputs": [],
   "source": [
    "# Let's store the above split string into a new variable\n",
    "my_split_string = my_string.split()\n",
    "print(my_split_string)"
   ]
  },
  {
   "cell_type": "markdown",
   "id": "b26535e4",
   "metadata": {},
   "source": [
    "SPLIT function splits the string by spaces by default. You can also split string by any other character."
   ]
  },
  {
   "cell_type": "code",
   "execution_count": null,
   "id": "cce1f176",
   "metadata": {},
   "outputs": [],
   "source": [
    "print(my_string)"
   ]
  },
  {
   "cell_type": "code",
   "execution_count": null,
   "id": "3f6b1a0d",
   "metadata": {},
   "outputs": [],
   "source": [
    "# LENGTH Function\n",
    "len(my_string) # How many characters did we have in my_string"
   ]
  },
  {
   "cell_type": "code",
   "execution_count": null,
   "id": "4f958f65",
   "metadata": {
    "scrolled": true
   },
   "outputs": [],
   "source": [
    "my_split_string"
   ]
  },
  {
   "cell_type": "code",
   "execution_count": null,
   "id": "0169eae2",
   "metadata": {},
   "outputs": [],
   "source": [
    "# How many words did we have in our my_string variable?\n",
    "len(my_split_string)"
   ]
  },
  {
   "cell_type": "markdown",
   "id": "6f5d7c06",
   "metadata": {},
   "source": [
    "So we have 209 characters in my_string and we have 36 words in my_string"
   ]
  },
  {
   "cell_type": "code",
   "execution_count": null,
   "id": "eed10da7",
   "metadata": {},
   "outputs": [],
   "source": [
    "# Let's look at a list of numbers\n",
    "my_lst = [10,20,30,40,50]\n",
    "my_lst"
   ]
  },
  {
   "cell_type": "code",
   "execution_count": null,
   "id": "efd68d1c",
   "metadata": {},
   "outputs": [],
   "source": [
    "type(my_lst)"
   ]
  },
  {
   "cell_type": "code",
   "execution_count": null,
   "id": "73b10e66",
   "metadata": {},
   "outputs": [],
   "source": [
    "len(my_lst)"
   ]
  },
  {
   "cell_type": "code",
   "execution_count": null,
   "id": "aa76c529",
   "metadata": {},
   "outputs": [],
   "source": [
    "sum(my_lst)"
   ]
  },
  {
   "cell_type": "code",
   "execution_count": null,
   "id": "9591d537",
   "metadata": {},
   "outputs": [],
   "source": [
    "import numpy as np # We just imported our first library! Yahoo!!\n",
    "np.mean(my_lst)"
   ]
  },
  {
   "cell_type": "code",
   "execution_count": null,
   "id": "92e9c58b",
   "metadata": {},
   "outputs": [],
   "source": [
    "!pip install numpy"
   ]
  },
  {
   "cell_type": "code",
   "execution_count": null,
   "id": "92485410",
   "metadata": {},
   "outputs": [],
   "source": [
    "# Let's create a list of number without having to type them all manually\n",
    "# RANGE Function\n",
    "range(10)"
   ]
  },
  {
   "cell_type": "code",
   "execution_count": null,
   "id": "bd5b5b23",
   "metadata": {},
   "outputs": [],
   "source": [
    "type(range(10))"
   ]
  },
  {
   "cell_type": "code",
   "execution_count": null,
   "id": "557bc4c3",
   "metadata": {},
   "outputs": [],
   "source": [
    "# Let's wrap the above range inside a list to convert the range to a list\n",
    "list(range(10))"
   ]
  },
  {
   "cell_type": "code",
   "execution_count": null,
   "id": "542dad55",
   "metadata": {},
   "outputs": [],
   "source": [
    "my_first_lst = list(range(1,11))\n",
    "my_second_lst = list(range(20,40))\n",
    "my_third_lst = list(range(10,101,10))"
   ]
  },
  {
   "cell_type": "code",
   "execution_count": null,
   "id": "94970545",
   "metadata": {},
   "outputs": [],
   "source": [
    "my_first_lst"
   ]
  },
  {
   "cell_type": "code",
   "execution_count": null,
   "id": "ca440584",
   "metadata": {},
   "outputs": [],
   "source": [
    "my_second_lst"
   ]
  },
  {
   "cell_type": "code",
   "execution_count": null,
   "id": "a0bc6243",
   "metadata": {},
   "outputs": [],
   "source": [
    "my_third_lst"
   ]
  },
  {
   "cell_type": "code",
   "execution_count": null,
   "id": "7ae99672",
   "metadata": {},
   "outputs": [],
   "source": []
  },
  {
   "cell_type": "code",
   "execution_count": null,
   "id": "28aebc63",
   "metadata": {},
   "outputs": [],
   "source": []
  },
  {
   "cell_type": "code",
   "execution_count": null,
   "id": "4932853c",
   "metadata": {},
   "outputs": [],
   "source": []
  },
  {
   "cell_type": "code",
   "execution_count": null,
   "id": "ba57094d",
   "metadata": {},
   "outputs": [],
   "source": []
  },
  {
   "cell_type": "code",
   "execution_count": null,
   "id": "411c6f6a",
   "metadata": {},
   "outputs": [],
   "source": []
  },
  {
   "cell_type": "markdown",
   "id": "713eea15",
   "metadata": {},
   "source": [
    "# Session 2\n",
    "\n",
    "### Python Index\n",
    "Python's indexing starts from 0. So the first element of any sequence is going to be the 0th index.\n",
    "\n",
    "Index is like the page numbers in a book. The first page in a book is page number 1. However, in Python, like many other languages, the indexing starts from 0.\n",
    "\n",
    "On the contrary, in SQL, the indexing starts from 1.\n",
    "\n",
    "Don't worry, remembering this will soon become second nature to you."
   ]
  },
  {
   "cell_type": "code",
   "execution_count": null,
   "id": "89674599",
   "metadata": {},
   "outputs": [],
   "source": [
    "lst = list(range(1,11,1))\n",
    "\n",
    "even_sqrd_lst = []\n",
    "odd_sqrd_lst = []\n",
    "for i in lst:\n",
    "    print(i, i**2)\n",
    "    if i**2%2==0:\n",
    "        even_sqrd_lst.append(i**2)\n",
    "    else:\n",
    "        odd_sqrd_lst.append(i**2)"
   ]
  },
  {
   "cell_type": "code",
   "execution_count": null,
   "id": "76e84320",
   "metadata": {},
   "outputs": [],
   "source": [
    "even_sqrd_lst"
   ]
  },
  {
   "cell_type": "code",
   "execution_count": null,
   "id": "61747be4",
   "metadata": {},
   "outputs": [],
   "source": [
    "odd_sqrd_lst"
   ]
  },
  {
   "cell_type": "code",
   "execution_count": null,
   "id": "aab48216",
   "metadata": {},
   "outputs": [],
   "source": [
    "type(2)"
   ]
  },
  {
   "cell_type": "code",
   "execution_count": null,
   "id": "5593d41d",
   "metadata": {},
   "outputs": [],
   "source": [
    "type('a')"
   ]
  },
  {
   "cell_type": "code",
   "execution_count": null,
   "id": "990360c1",
   "metadata": {},
   "outputs": [],
   "source": [
    "type(even_sqrd_lst)"
   ]
  },
  {
   "cell_type": "code",
   "execution_count": null,
   "id": "617c5c90",
   "metadata": {},
   "outputs": [],
   "source": [
    "x = {'a':1,'b':2}\n",
    "x"
   ]
  },
  {
   "cell_type": "code",
   "execution_count": null,
   "id": "979c65d3",
   "metadata": {},
   "outputs": [],
   "source": [
    "x['a']"
   ]
  },
  {
   "cell_type": "code",
   "execution_count": null,
   "id": "31f20a89",
   "metadata": {},
   "outputs": [],
   "source": [
    "x['b']"
   ]
  },
  {
   "cell_type": "code",
   "execution_count": null,
   "id": "7fb775a9",
   "metadata": {},
   "outputs": [],
   "source": [
    "type(x)"
   ]
  },
  {
   "cell_type": "code",
   "execution_count": null,
   "id": "21cf462e",
   "metadata": {},
   "outputs": [],
   "source": [
    "i = [1,2,2,3,3,4,5,6,6,7,7,7,8,9,10,10]\n",
    "i"
   ]
  },
  {
   "cell_type": "code",
   "execution_count": null,
   "id": "13b2dad2",
   "metadata": {},
   "outputs": [],
   "source": [
    "list(set())"
   ]
  },
  {
   "cell_type": "code",
   "execution_count": null,
   "id": "9dcde813",
   "metadata": {},
   "outputs": [],
   "source": [
    "x,y=2,8\n",
    "print(x,y)"
   ]
  },
  {
   "cell_type": "code",
   "execution_count": null,
   "id": "0acdea80",
   "metadata": {},
   "outputs": [],
   "source": [
    "x,y=y,x\n",
    "print(x,y)"
   ]
  },
  {
   "cell_type": "code",
   "execution_count": null,
   "id": "37241e9a",
   "metadata": {},
   "outputs": [],
   "source": [
    "x=y\n",
    "y=x\n",
    "print(x,y)"
   ]
  },
  {
   "cell_type": "code",
   "execution_count": null,
   "id": "853d8751",
   "metadata": {},
   "outputs": [],
   "source": [
    "string = 'reverse me!'\n",
    "print(string)\n",
    "print(string[::-1])"
   ]
  },
  {
   "cell_type": "code",
   "execution_count": null,
   "id": "dd075fef",
   "metadata": {},
   "outputs": [],
   "source": [
    "i"
   ]
  },
  {
   "cell_type": "code",
   "execution_count": null,
   "id": "667536ed",
   "metadata": {},
   "outputs": [],
   "source": [
    "print(max(set(i), key=i.count))"
   ]
  },
  {
   "cell_type": "code",
   "execution_count": null,
   "id": "84dd3885",
   "metadata": {},
   "outputs": [],
   "source": [
    "print(f\"{'topic':.^100}\")"
   ]
  },
  {
   "cell_type": "code",
   "execution_count": null,
   "id": "90fac046",
   "metadata": {},
   "outputs": [],
   "source": [
    "names = ['Kamesh','Lalitha','Attri','Saisha']\n",
    "names_lengths = {name:len(name) for name in names}"
   ]
  },
  {
   "cell_type": "code",
   "execution_count": null,
   "id": "24424f6d",
   "metadata": {},
   "outputs": [],
   "source": [
    "names_lengths"
   ]
  },
  {
   "cell_type": "code",
   "execution_count": null,
   "id": "896008c9",
   "metadata": {},
   "outputs": [],
   "source": [
    "def longest(sentence):\n",
    "    for word in sentence.split():\n",
    "        longest_even='00'\n",
    "        longest_odd='0'\n",
    "        if len(word)%2==0 and len(word)>len(longest_even):\n",
    "            longest_even=word\n",
    "        else:\n",
    "            longest_odd=word\n",
    "    return [longest_even,longest_odd]"
   ]
  },
  {
   "cell_type": "code",
   "execution_count": null,
   "id": "0f6d221f",
   "metadata": {},
   "outputs": [],
   "source": [
    "sent = 'i love python and its one of the best languages in the world for machine learning'\n",
    "longest(sent)"
   ]
  },
  {
   "cell_type": "code",
   "execution_count": null,
   "id": "6930015a",
   "metadata": {},
   "outputs": [],
   "source": [
    "jd = f\"\"\"\n",
    "The Portfolio Manager will report directly to the Chief Data Analytics Officer and will play a critical role in providing program management for all Data & Analytics initiatives across Data Science, Data Engineering, Service Delivery, Data Insights, and Robotic Process Automation teams. The position demands a hands-on approach and collaboration with cross-functional teams to drive innovation and ensure adherence to department standards and policies.\n",
    "\n",
    "Responsibilities\n",
    "\n",
    "A day in the life of a Data & Analytics Portfolio Manager at Hackensack Meridian Health includes:\n",
    "\n",
    "· Provide program management for all Data & Analytics initiatives, ensuring alignment with the organizational goals and objectives.\n",
    "\n",
    "· Advise on and ensure the implementation of correct Client Cloud architecture patterns.\n",
    "\n",
    "· Design, implement, and manage department-level processes that are efficient and scalable.\n",
    "\n",
    "· Advise on and ensure the implementation of correct data engineering design patterns.\n",
    "\n",
    "· Support innovation initiatives, including assisting in the formulation and design of cloud-based AI deployments.\n",
    "\n",
    "· Advise on and ensure adherence to correct data governance policies and procedures.\n",
    "\n",
    "· Design and maintain department policies and procedures, ensuring compliance with regulatory standards.\n",
    "\n",
    "· Determine and monitor department KPIs, and prepare reports for executive review.\n",
    "\n",
    "· Manage the departmental budget, including planning, allocation, and monitoring expenditures.\n",
    "\n",
    "· Provide hands-on support for data ingestion, scripting, and Client Cloud deployments.\n",
    "\n",
    "· Collaborate with cross-functional teams to ensure seamless communication and alignment.\n",
    "\n",
    "· Analyze large data sets to derive insights and make data-driven decisions.\n",
    "\n",
    "· Drive a culture of continuous improvement and innovation within the department.\n",
    "\n",
    "Qualifications Required:\n",
    "\n",
    "· Education: Minimum of a Bachelor’s degree in Computer Science, Statistics, Mathematics, or a related field.\n",
    "\n",
    "· Experience: At least 3 years of experience in data science, software engineering, or a related field.\n",
    "\n",
    "· Experience: At least 5 years of experience in program management.\n",
    "\n",
    "Skills Required:\n",
    "\n",
    "· Proficiency in Python\n",
    "\n",
    "· Proficiency in SQL\n",
    "\n",
    "· Experience with Client Cloud\n",
    "\n",
    "· Experience with Looker or comparable data visualization tools\n",
    "\n",
    "· Knowledge of cloud architecture patterns\n",
    "\n",
    "· Strong understanding of data governance policies and procedures\n",
    "\n",
    "· Excellent communication and collaboration skills\n",
    "\n",
    "· Ability to lead cross-functional teams and drive initiatives\n",
    "\n",
    "· Strong analytical and problem-solving skills\n",
    "\n",
    "· Budget management experience\n",
    "\n",
    "· Experience with Agile\n",
    "\n",
    "\"\"\"\n",
    "skills = []\n",
    "jd = jd.replace(',','').replace('·','').replace('.','')\n",
    "for i in jd.split():\n",
    "    if i.lower() in ['python','sql','tableau','r','agile','java','ruby','rails','mathematics','statistics','cloud','aws','azure','gcp']:\n",
    "        skills.append(i.lower())\n",
    "\n",
    "my_dict = {word:len(word) for word in skills}\n",
    "\n",
    "{key: value for key, value in sorted(my_dict.items(), key=lambda item: item[1], reverse=True)}"
   ]
  }
 ],
 "metadata": {
  "kernelspec": {
   "display_name": "Python 3 (ipykernel)",
   "language": "python",
   "name": "python3"
  },
  "language_info": {
   "codemirror_mode": {
    "name": "ipython",
    "version": 3
   },
   "file_extension": ".py",
   "mimetype": "text/x-python",
   "name": "python",
   "nbconvert_exporter": "python",
   "pygments_lexer": "ipython3",
   "version": "3.7.4"
  }
 },
 "nbformat": 4,
 "nbformat_minor": 5
}
